{
 "cells": [
  {
   "cell_type": "code",
   "execution_count": 1,
   "metadata": {},
   "outputs": [
    {
     "ename": "ModuleNotFoundError",
     "evalue": "No module named 'qgrid'",
     "output_type": "error",
     "traceback": [
      "\u001b[1;31m---------------------------------------------------------------------------\u001b[0m",
      "\u001b[1;31mModuleNotFoundError\u001b[0m                       Traceback (most recent call last)",
      "\u001b[1;32m<ipython-input-1-4ac81d666cc2>\u001b[0m in \u001b[0;36m<module>\u001b[1;34m()\u001b[0m\n\u001b[0;32m      2\u001b[0m \u001b[1;32mimport\u001b[0m \u001b[0mnumpy\u001b[0m \u001b[1;32mas\u001b[0m \u001b[0mnp\u001b[0m\u001b[1;33m\u001b[0m\u001b[0m\n\u001b[0;32m      3\u001b[0m \u001b[1;32mimport\u001b[0m \u001b[0mpandas\u001b[0m \u001b[1;32mas\u001b[0m \u001b[0mpd\u001b[0m\u001b[1;33m\u001b[0m\u001b[0m\n\u001b[1;32m----> 4\u001b[1;33m \u001b[1;32mimport\u001b[0m \u001b[0mqgrid\u001b[0m \u001b[1;32mas\u001b[0m \u001b[0mqd\u001b[0m\u001b[1;33m\u001b[0m\u001b[0m\n\u001b[0m\u001b[0;32m      5\u001b[0m \u001b[1;32mimport\u001b[0m \u001b[0mmatplotlib\u001b[0m\u001b[1;33m.\u001b[0m\u001b[0mpyplot\u001b[0m \u001b[1;32mas\u001b[0m \u001b[0mplt\u001b[0m\u001b[1;33m\u001b[0m\u001b[0m\n\u001b[0;32m      6\u001b[0m \u001b[1;33m\u001b[0m\u001b[0m\n",
      "\u001b[1;31mModuleNotFoundError\u001b[0m: No module named 'qgrid'"
     ]
    }
   ],
   "source": [
    "%matplotlib inline\n",
    "import numpy as np\n",
    "import pandas as pd\n",
    "import qgrid as qd\n",
    "import matplotlib.pyplot as plt\n",
    "\n",
    "np.set_printoptions(suppress=True, precision=3)\n",
    "qd.nbinstall(overwrite=True)"
   ]
  },
  {
   "cell_type": "code",
   "execution_count": 4,
   "metadata": {
    "collapsed": true
   },
   "outputs": [],
   "source": [
    "path_to_train_data = '../Data/Robot/robot_train.data'\n",
    "path_to_test_data = '../Data/Robot/robot_test.data'"
   ]
  },
  {
   "cell_type": "code",
   "execution_count": 5,
   "metadata": {
    "collapsed": true
   },
   "outputs": [],
   "source": [
    "def read_data(path_to_data):\n",
    "    data_dict = {}\n",
    "    data_panel = None\n",
    "    color_codes = {'b':0, 'g':1, 'r':2, 'y':3}\n",
    "    state_codes = {(1, 1):0, (2, 1):1, (3, 1):2, (4, 1):3, (1, 2):4, (2, 2):5, (3, 2):6, (4, 2):7, (1, 3):8, (2, 3):9, (3, 3):10, (4, 3):11, (1, 4):12, (2, 4):13, (3, 4):14, (4, 4):15}\n",
    "    with open(path_to_data) as f:\n",
    "        seq_ind = 0\n",
    "        data_dict[seq_ind] = {'x':[], 'y':[], 'col':[], 'state':[]}\n",
    "        for line in f:\n",
    "            if '.' in line:\n",
    "                seq_ind += 1\n",
    "                data_dict[seq_ind] = {'x':[], 'y':[], 'col':[], 'state':[]}\n",
    "            else:\n",
    "                coord, col = line.strip().split(' ')\n",
    "                x, y = coord.split(':')\n",
    "                data_dict[seq_ind]['x'].append(int(x))\n",
    "                data_dict[seq_ind]['y'].append(int(y))\n",
    "                data_dict[seq_ind]['state'].append(state_codes[int(x), int(y)])\n",
    "                data_dict[seq_ind]['col'].append(color_codes[col])\n",
    "        data_panel = pd.Panel(data_dict)\n",
    "    return data_panel"
   ]
  },
  {
   "cell_type": "code",
   "execution_count": 6,
   "metadata": {},
   "outputs": [],
   "source": [
    "data = read_data(path_to_train_data)\n",
    "data = data.swapaxes(1,2)"
   ]
  },
  {
   "cell_type": "markdown",
   "metadata": {},
   "source": [
    "Define the alphabets"
   ]
  },
  {
   "cell_type": "code",
   "execution_count": 7,
   "metadata": {},
   "outputs": [],
   "source": [
    "A, B, pi = None, None, None  # Transition probabilities, emission probabilities, initial state probabilities\n",
    "S, V = None, None  # State alphabet, Observation alphabet"
   ]
  },
  {
   "cell_type": "markdown",
   "metadata": {},
   "source": [
    "Infer the state and obseration alphabets from the test data"
   ]
  },
  {
   "cell_type": "code",
   "execution_count": 8,
   "metadata": {},
   "outputs": [],
   "source": [
    "# S = np.dstack(np.meshgrid(np.unique(data.ix[:, 1]), np.unique(data.ix[:, 2])))\n",
    "# S = np.array(list(map(tuple, S.reshape(-1,2))), dtype = np.dtype([('x', 'i1'), ('y', 'i1')]))\n",
    "# S = S.view(np.recarray)\n",
    "S = np.unique(data.ix[:, 1])\n",
    "V = np.unique(data.ix[:, 0])"
   ]
  },
  {
   "cell_type": "code",
   "execution_count": 9,
   "metadata": {},
   "outputs": [],
   "source": [
    "A, B = pd.DataFrame(np.zeros((S.size, S.size)), index=S, columns=S), pd.DataFrame(np.zeros((S.size, V.size)), index=S, columns=V)\n",
    "# A, B = np.zeros((S.size, S.size)), np.zeros((S.size, V.size))\n",
    "pi = pd.Series(np.zeros(S.size), index=S)"
   ]
  },
  {
   "cell_type": "markdown",
   "metadata": {},
   "source": [
    "## Find values of A, B, and pi"
   ]
  },
  {
   "cell_type": "code",
   "execution_count": 10,
   "metadata": {},
   "outputs": [],
   "source": [
    "obs = data[:, :2].values\n",
    "states = data[:, 1].values\n",
    "count_s_ij = pd.DataFrame(np.zeros((S.size, S.size)), index=S, columns=S)\n",
    "count_s_i = pd.Series(np.zeros(S.size), index=S)\n",
    "count_sv_iv = pd.DataFrame(np.zeros((S.size, V.size)), index=S, columns=V)\n",
    "count_q1_i = pd.Series(np.zeros(S.size), index=S)\n",
    "for i in S:\n",
    "    oi=(states  - i == 0)\n",
    "    count_s_i.ix[i] = oi.sum()\n",
    "    o1i = (states[:, 0] - i == 0).astype(int)\n",
    "    count_q1_i.ix[i] = o1i.sum()\n",
    "    for v in V:\n",
    "        vi = np.array([v, i])\n",
    "        ovi=np.all(obs  - vi.reshape(1, -1, 1)==0, axis=1).astype(int)\n",
    "        count_sv_iv.ix[i, v] = ovi.sum()\n",
    "        B.ix[i, v] = count_sv_iv.ix[i, v] / count_s_i.ix[i]\n",
    "    for j in S:\n",
    "        if j != i:\n",
    "            oj=(states  - j == 0).astype(int)\n",
    "            oij = oi[:-1] + oj[:1]\n",
    "            count_s_ij.ix[i,j] = np.where(oij==2)[0].size\n",
    "            A.ix[i, j] = count_s_ij.ix[i,j] / count_s_i.ix[i]\n",
    "np.fill_diagonal(A.values, 0)\n",
    "np.fill_diagonal(A.values, 1 - A.sum('columns'))\n",
    "pi = count_q1_i / states.shape[0]"
   ]
  },
  {
   "cell_type": "markdown",
   "metadata": {},
   "source": [
    "## Visualize probabilities"
   ]
  },
  {
   "cell_type": "code",
   "execution_count": 61,
   "metadata": {},
   "outputs": [],
   "source": [
    "B_ = B.reindex(index=np.arange(16), fill_value=0)\n",
    "state_codes = [(1, 1), (2, 1), (3, 1), (4, 1), (1, 2), (2, 2), (3, 2), (4, 2), (1, 3), (2, 3), (3, 3), (4, 3), (1, 4), (2, 4), (3, 4), (4, 4)]\n",
    "B_ = pd.DataFrame(data=B_.values, index=pd.MultiIndex.from_tuples(state_codes, names=['x', 'y']), columns=['b', 'g', 'r', 'y'])\n",
    "B_ = B_.unstack()"
   ]
  },
  {
   "cell_type": "code",
   "execution_count": 81,
   "metadata": {},
   "outputs": [],
   "source": [
    "import seaborn as sns\n",
    "\n",
    "def plot_probabilities(B):\n",
    "    f, axarr = plt.subplots(2,2)\n",
    "    d = {(0,0):'b', (0,1):'g', (1,0):'r', (1,1):'y'}\n",
    "    for i, ax in np.ndenumerate(axarr):\n",
    "        ax.set_title(\"Probability of emitting: {}\".format(d[i]))\n",
    "        sns.heatmap(B[d[i]], annot=True, linewidths=0.5, ax=ax)\n",
    "        plt.tight_layout(pad=0.4, w_pad=0.5, h_pad=1.0)"
   ]
  },
  {
   "cell_type": "code",
   "execution_count": 82,
   "metadata": {},
   "outputs": [
    {
     "data": {
      "image/png": "[encoded data removed]",
      "text/plain": [
       "<matplotlib.figure.Figure at 0x119d7aa20>"
      ]
     },
     "metadata": {},
     "output_type": "display_data"
    }
   ],
   "source": [
    "plot_probabilities(B_)"
   ]
  },
  {
   "cell_type": "markdown",
   "metadata": {},
   "source": [
    "The above obtained probabilities are Maximum Likelihood Estimators of the true probabilities. They are point estimates. They do not take into account data not seen previously. A better estimator would the the MAP estimate or a Bayesian estimate where we even obtain a confidence interval of the probabilities."
   ]
  },
  {
   "cell_type": "markdown",
   "metadata": {},
   "source": [
    "# Viterbi Algorithm"
   ]
  },
  {
   "cell_type": "code",
   "execution_count": 89,
   "metadata": {},
   "outputs": [],
   "source": [
    "O = test_data[0][['col', 'state']]"
   ]
  },
  {
   "cell_type": "code",
   "execution_count": 94,
   "metadata": {
    "collapsed": true
   },
   "outputs": [],
   "source": [
    "delta = pd.DataFrame(index=S)\n",
    "psi = pd.DataFrame(index=S)"
   ]
  },
  {
   "cell_type": "markdown",
   "metadata": {},
   "source": [
    "### Initialisation:"
   ]
  },
  {
   "cell_type": "code",
   "execution_count": 95,
   "metadata": {},
   "outputs": [],
   "source": [
    "delta[0] = pd.Series(data=pi*B[O['col'][0]], index=S)\n",
    "psi[0] = pd.Series(np.zeros(S.size), index=S)"
   ]
  },
  {
   "cell_type": "markdown",
   "metadata": {},
   "source": [
    "### Recursion:"
   ]
  },
  {
   "cell_type": "code",
   "execution_count": 108,
   "metadata": {
    "scrolled": false
   },
   "outputs": [],
   "source": [
    "for t, o in enumerate(O['col'], 1):\n",
    "    delta[t] = pd.Series(np.zeros(S.size), index=S)\n",
    "    psi[t] = pd.Series(np.zeros(S.size), index=S)\n",
    "    for j in S:\n",
    "#         print(delta[t-1], A[j])\n",
    "        delta.ix[j, t] = (delta[t - 1]*A[j]).max() * B.ix[j, o]\n",
    "        psi.ix[j, t] = (delta[t - 1]*A[j]).idxmax()"
   ]
  },
  {
   "cell_type": "markdown",
   "metadata": {},
   "source": [
    "### Termination:"
   ]
  },
  {
   "cell_type": "code",
   "execution_count": 112,
   "metadata": {},
   "outputs": [],
   "source": [
    "T = O.shape[0] - 1\n",
    "P = delta[T].max()\n",
    "q_T = delta[T].idxmax()"
   ]
  },
  {
   "cell_type": "code",
   "execution_count": 115,
   "metadata": {},
   "outputs": [],
   "source": [
    "opt_state_seq = np.zeros(O.shape[0], dtype=int)\n",
    "opt_state_seq[T] = q_T\n",
    "for t in range(T-1, -1, -1):\n",
    "    opt_state_seq[t] = psi[t+1][opt_state_seq[t+1]]"
   ]
  },
  {
   "cell_type": "code",
   "execution_count": 116,
   "metadata": {},
   "outputs": [
    {
     "name": "stdout",
     "output_type": "stream",
     "text": [
      "[ 3  3  1  1  3  1  1  1  7  1  7  3  3  3  2  3  2  1  1  1  1 14 15 14  1\n",
      " 14 14  1 13 13 14 15 15 15 14 14 14 13 13 15  1 13 13 13  1  1 13 14  1  1\n",
      "  3 13 13  8 14  1 14 13  1  1  1  1 14 14 15 15 14  1  7  1 14 15 14 13 14\n",
      " 14 14 14 14  1 14 14  1  1  7  1 13  1  1 13 13 15 15 15 13  1 13 13  1  1\n",
      "  7  1  1  1  1  1  1  1  1  1  3  3  3  2  3 13  8 14 14 14 14 15 14 14  3\n",
      "  2  3  3  2  3  3  3  3  2  1  1  1  1  1  1  7  1  1  1 14 13 14  1  1  7\n",
      "  1 14 15 15 13 13 13 13 13 13 13 14 13 14 13 13 13 14 13 13 14 13 13 14 13\n",
      " 13 15 15 13 13 15 13 15  1  1  3  3  3  1  1  1  1  1  3  2  3  3  3  1  1]\n"
     ]
    }
   ],
   "source": [
    "print(opt_state_seq)"
   ]
  },
  {
   "cell_type": "markdown",
   "metadata": {},
   "source": [
    "Putting it all together:"
   ]
  },
  {
   "cell_type": "code",
   "execution_count": 117,
   "metadata": {
    "collapsed": true
   },
   "outputs": [],
   "source": [
    "def viterbi(O, A, B, pi):\n",
    "    delta = pd.DataFrame(index=S)\n",
    "    psi = pd.DataFrame(index=S)\n",
    "\n",
    "    delta[0] = pd.Series(data=pi*B[O['col'][0]], index=S)\n",
    "    psi[0] = pd.Series(np.zeros(S.size), index=S)\n",
    "\n",
    "    for t, o in enumerate(O['col'], 1):\n",
    "        delta[t] = pd.Series(np.zeros(S.size), index=S)\n",
    "        psi[t] = pd.Series(np.zeros(S.size), index=S)\n",
    "        for j in S:\n",
    "    #         print(delta[t-1], A[j])\n",
    "            delta.ix[j, t] = (delta[t - 1]*A[j]).max() * B.ix[j, o]\n",
    "            psi.ix[j, t] = (delta[t - 1]*A[j]).idxmax()\n",
    "\n",
    "    T = O.shape[0] - 1\n",
    "    P, q_T = delta[T].max(), delta[T].idxmax()\n",
    "\n",
    "    opt_state_seq = np.zeros(O.shape[0], dtype=int)\n",
    "    opt_state_seq[T] = q_T\n",
    "    for t in range(T-1, -1, -1):\n",
    "        opt_state_seq[t] = psi[t+1][opt_state_seq[t+1]]\n",
    "        \n",
    "    return P, opt_state_seq"
   ]
  },
  {
   "cell_type": "code",
   "execution_count": 127,
   "metadata": {},
   "outputs": [],
   "source": [
    "pred_seq = pd.DataFrame()\n",
    "for i in range(test_data.shape[0]-1):\n",
    "    O = test_data[i][['col', 'state']]\n",
    "    _, pred_seq[i] = viterbi(O, A, B, pi)"
   ]
  },
  {
   "cell_type": "code",
   "execution_count": 135,
   "metadata": {},
   "outputs": [
    {
     "name": "stdout",
     "output_type": "stream",
     "text": [
      "Avg Accuracy:  0.913775\n"
     ]
    }
   ],
   "source": [
    "true_seq = test_data[:199, :, 'state']\n",
    "acc = true_seq.values - pred_seq\n",
    "tot_acc = acc.values[np.nonzero(errors.values)].size\n",
    "print(\"Avg Accuracy: \", tot_acc/40000)"
   ]
  },
  {
   "cell_type": "markdown",
   "metadata": {},
   "source": [
    "HMM is a powerful modeling technique when the system states are partially observable and the behavior of the system is considered as autonomous. Although with being partially observable, POMDP could be an effective alternative but the nature of autonomy of the modeled system will determine the ultimate selection of Markov models. Generally system autonomy is dependent on the agent decision making ability with concern of human intervention. HMMs are variant of FSMs where the flexibility of decision process could be perfectly implemented and the selection of output is basically could be described as real system outputs and to reach for efficient performance."
   ]
  }
 ],
 "metadata": {
  "kernelspec": {
   "display_name": "Python 3",
   "language": "python",
   "name": "python3"
  },
  "language_info": {
   "codemirror_mode": {
    "name": "ipython",
    "version": 3
   },
   "file_extension": ".py",
   "mimetype": "text/x-python",
   "name": "python",
   "nbconvert_exporter": "python",
   "pygments_lexer": "ipython3",
   "version": "3.6.3"
  }
 },
 "nbformat": 4,
 "nbformat_minor": 1
}
