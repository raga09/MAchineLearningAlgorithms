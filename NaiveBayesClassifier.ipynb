{
 "cells": [
  {
   "cell_type": "code",
   "execution_count": 1,
   "metadata": {
    "collapsed": true
   },
   "outputs": [],
   "source": [
    "import numpy as np\n",
    "import pandas as pd"
   ]
  },
  {
   "cell_type": "markdown",
   "metadata": {},
   "source": [
    "Load the data"
   ]
  },
  {
   "cell_type": "code",
   "execution_count": 2,
   "metadata": {
    "collapsed": false
   },
   "outputs": [],
   "source": [
    "mnist_data = pd.read_csv('../Data/mnist.data')"
   ]
  },
  {
   "cell_type": "code",
   "execution_count": 3,
   "metadata": {
    "collapsed": true
   },
   "outputs": [],
   "source": [
    "features = mnist_data.columns[1:]"
   ]
  },
  {
   "cell_type": "code",
   "execution_count": 4,
   "metadata": {
    "collapsed": false
   },
   "outputs": [],
   "source": [
    "num_lab = mnist_data.label.unique().shape[0]  # 10\n",
    "num_feat = mnist_data.columns.shape[0] - 1  # 784 Becuase labels is one of the columns\n",
    "num_cat = 256  # No of values each feature can take"
   ]
  },
  {
   "cell_type": "markdown",
   "metadata": {},
   "source": [
    "Create an empty data frame to hold the probabilities for each value that a feature takes for all features and classes. "
   ]
  },
  {
   "cell_type": "code",
   "execution_count": 5,
   "metadata": {
    "collapsed": false
   },
   "outputs": [],
   "source": [
    "lab_ind = np.arange(num_lab).repeat(num_cat)\n",
    "feat_ind = np.arange(num_feat)\n",
    "cat_ind = np.tile(np.arange(num_cat), num_lab)\n",
    "\n",
    "# Create DataFrame\n",
    "probabilities = pd.DataFrame(np.empty(shape=(num_lab * num_cat, num_feat)), index=[lab_ind, cat_ind], columns=features)\n",
    "probabilities.index.names = ['labels', 'categories']\n",
    "probabilities.columns.names = ['features']"
   ]
  },
  {
   "cell_type": "markdown",
   "metadata": {},
   "source": [
    "Group data by classes and extract probabilities"
   ]
  },
  {
   "cell_type": "code",
   "execution_count": 6,
   "metadata": {
    "collapsed": false
   },
   "outputs": [],
   "source": [
    "grouped_data = mnist_data.groupby('label', axis=0)\n",
    "group_counts = grouped_data.count()['pixel0']\n",
    "smoothed_counts = group_counts + num_cat\n",
    "smoothed_counts = pd.DataFrame(np.repeat(smoothed_counts.values, num_cat), index=probabilities.index, dtype=np.float64)\n",
    "for label, label_data in grouped_data:\n",
    "    for feature in features:\n",
    "        probabilities.loc[label][feature] = label_data[feature].value_counts()\n",
    "probabilities = probabilities.fillna(0)\n",
    "probabilities += 1 # Laplace smoothing\n",
    "probabilities = pd.DataFrame(-np.log(probabilities.values/smoothed_counts.values), index=probabilities.index, columns=probabilities.columns)"
   ]
  },
  {
   "cell_type": "code",
   "execution_count": 7,
   "metadata": {
    "collapsed": false
   },
   "outputs": [],
   "source": [
    "prior = grouped_data.count()/mnist_data['label'].count()\n",
    "prior = pd.Series(-np.log(prior['pixel0'].values))"
   ]
  },
  {
   "cell_type": "code",
   "execution_count": 8,
   "metadata": {
    "collapsed": false
   },
   "outputs": [],
   "source": [
    "def predict_point(x):\n",
    "    class_cond_prob = np.zeros(shape=num_lab)\n",
    "    for i, val in enumerate(x):\n",
    "        class_cond_prob += probabilities[features[i]].loc[:, val]\n",
    "    class_cond_prob += prior\n",
    "    return np.argmax(class_cond_prob)"
   ]
  },
  {
   "cell_type": "code",
   "execution_count": 9,
   "metadata": {
    "collapsed": true
   },
   "outputs": [],
   "source": [
    "def predict(test_data):\n",
    "    predicted_labels = np.empty(test_data.shape[0])\n",
    "    for index, point in enumerate(test_data):\n",
    "        predicted_labels[index] = predict_point(point)\n",
    "        \n",
    "    return predicted_labels"
   ]
  },
  {
   "cell_type": "code",
   "execution_count": 10,
   "metadata": {
    "collapsed": false
   },
   "outputs": [],
   "source": [
    "histogram = probabilities.values.reshape((num_lab, -1, num_feat)).swapaxes(1,2)"
   ]
  },
  {
   "cell_type": "code",
   "execution_count": 11,
   "metadata": {
    "collapsed": false
   },
   "outputs": [],
   "source": [
    "data = np.genfromtxt('../Data/mnist.data', delimiter=',', names=True, dtype=np.uint8)"
   ]
  },
  {
   "cell_type": "code",
   "execution_count": 12,
   "metadata": {
    "collapsed": false
   },
   "outputs": [],
   "source": [
    "data_view = data.view(np.uint8).reshape(data.shape + (-1,))"
   ]
  },
  {
   "cell_type": "code",
   "execution_count": 13,
   "metadata": {
    "collapsed": false
   },
   "outputs": [],
   "source": [
    "classes = np.unique(data['label'])"
   ]
  },
  {
   "cell_type": "code",
   "execution_count": 27,
   "metadata": {
    "collapsed": false
   },
   "outputs": [
    {
     "data": {
      "text/plain": [
       "1"
      ]
     },
     "execution_count": 27,
     "metadata": {},
     "output_type": "execute_result"
    }
   ],
   "source": [
    "x=np.random.random_integers(0, 255, 784)\n",
    "ccp = histogram[:, np.arange(num_feat), x].sum(axis=1) + prior.values\n",
    "np.argmax(ccp)"
   ]
  },
  {
   "cell_type": "code",
   "execution_count": 22,
   "metadata": {
    "collapsed": false
   },
   "outputs": [
    {
     "data": {
      "text/plain": [
       "1"
      ]
     },
     "execution_count": 22,
     "metadata": {},
     "output_type": "execute_result"
    }
   ],
   "source": [
    "np.argmax(ccp)"
   ]
  },
  {
   "cell_type": "code",
   "execution_count": null,
   "metadata": {
    "collapsed": false
   },
   "outputs": [],
   "source": [
    "histogram.shape"
   ]
  },
  {
   "cell_type": "code",
   "execution_count": null,
   "metadata": {
    "collapsed": true
   },
   "outputs": [],
   "source": []
  }
 ],
 "metadata": {
  "kernelspec": {
   "display_name": "Python 3",
   "language": "python",
   "name": "python3"
  },
  "language_info": {
   "codemirror_mode": {
    "name": "ipython",
    "version": 3
   },
   "file_extension": ".py",
   "mimetype": "text/x-python",
   "name": "python",
   "nbconvert_exporter": "python",
   "pygments_lexer": "ipython3",
   "version": "3.5.0"
  }
 },
 "nbformat": 4,
 "nbformat_minor": 0
}
